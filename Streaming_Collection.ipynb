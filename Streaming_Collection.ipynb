{
 "cells": [
  {
   "cell_type": "markdown",
   "metadata": {},
   "source": [
    "## Goals\n",
    "\n",
    "* Ingest streaming data from one of two sources: either Twitter or Wikipedia edits\n",
    "* Perform pre-processing and save data to persistent storage\n",
    "\n",
    "For Twitter data, you'll need to visit [the Twitter App management page](https://dev.twitter.com), create an application if necessary, and fill in your credentials in `twitter4j.properties`."
   ]
  },
  {
   "cell_type": "code",
   "execution_count": null,
   "metadata": {
    "collapsed": false
   },
   "outputs": [],
   "source": [
    "%dependency org.apache.spark %% spark-streaming % 1.3.1"
   ]
  },
  {
   "cell_type": "code",
   "execution_count": null,
   "metadata": {
    "collapsed": false
   },
   "outputs": [],
   "source": [
    "%dependency org.apache.spark %% spark-streaming-twitter % 1.3.1"
   ]
  },
  {
   "cell_type": "code",
   "execution_count": null,
   "metadata": {
    "collapsed": false
   },
   "outputs": [],
   "source": [
    "%dependency com.google.code.gson % gson % 2.4"
   ]
  },
  {
   "cell_type": "code",
   "execution_count": null,
   "metadata": {
    "collapsed": false
   },
   "outputs": [],
   "source": [
    "import org.apache.spark.streaming._\n",
    "import org.apache.spark.streaming.twitter._\n",
    "\n",
    "import com.google.gson.Gson"
   ]
  },
  {
   "cell_type": "code",
   "execution_count": null,
   "metadata": {
    "collapsed": false
   },
   "outputs": [],
   "source": [
    "val WikiServerHost  = \"ec2-54-213-33-240.us-west-2.compute.amazonaws.com\"\n",
    "val WikiServerPort  = 9002\n",
    "\n",
    "val BatchInterval   = Seconds(10)"
   ]
  },
  {
   "cell_type": "code",
   "execution_count": null,
   "metadata": {
    "collapsed": false
   },
   "outputs": [],
   "source": [
    "val ssc = new StreamingContext(spark, BatchInterval)"
   ]
  },
  {
   "cell_type": "markdown",
   "metadata": {},
   "source": [
    "### Choose a data source"
   ]
  },
  {
   "cell_type": "code",
   "execution_count": null,
   "metadata": {
    "collapsed": false
   },
   "outputs": [],
   "source": [
    "// Twitter\n",
    "val dStream = TwitterUtils.createStream(ssc, None)\n",
    "dStream.foreachRDD { (rdd, time) =>\n",
    "    if(! rdd.isEmpty) {\n",
    "        rdd.map{x =>\n",
    "            var gson = new Gson()\n",
    "            gson.toJson(x)\n",
    "        }\n",
    "           .saveAsTextFile(\"data/\" + time.milliseconds.toString)\n",
    "    }\n",
    "}\n",
    "\n",
    "// Task serializability is why we put the gson declaration inside the map."
   ]
  },
  {
   "cell_type": "code",
   "execution_count": null,
   "metadata": {
    "collapsed": false
   },
   "outputs": [],
   "source": [
    "// Wikipedia\n",
    "val dStream = ssc.socketTextStream(WikiServerHost, WikiServerPort)\n",
    "dStream.foreachRDD { (rdd, time) =>\n",
    "    if(! rdd.isEmpty) {\n",
    "        rdd.saveAsTextFile(\"data/\" + time.milliseconds.toString)\n",
    "    }\n",
    "}"
   ]
  },
  {
   "cell_type": "markdown",
   "metadata": {},
   "source": [
    "Check out [the programming guide](https://spark.apache.org/docs/1.2.0/streaming-programming-guide.html) for useful diagrams of DStreams.\n",
    "\n",
    "*Question:* How do we decide what logic to put here and what to save till later?"
   ]
  },
  {
   "cell_type": "code",
   "execution_count": null,
   "metadata": {
    "collapsed": false
   },
   "outputs": [],
   "source": [
    "ssc.start()"
   ]
  },
  {
   "cell_type": "code",
   "execution_count": null,
   "metadata": {
    "collapsed": false
   },
   "outputs": [],
   "source": [
    "ssc.stop(stopSparkContext = false, stopGracefully = true)\n",
    "// We'll still have to create a new StreamingContext to try again, though"
   ]
  },
  {
   "cell_type": "markdown",
   "metadata": {
    "collapsed": true
   },
   "source": [
    "**Remember to stop the Streaming Context!**"
   ]
  }
 ],
 "metadata": {
  "kernelspec": {
   "display_name": "Spark 1.3 (Scala 2.10)",
   "language": "scala",
   "name": "spark-1.3-scala-2.10"
  },
  "language_info": {
   "codemirror_mode": "text/x-scala",
   "file_extension": "scala",
   "mimetype": "text/x-scala",
   "name": "scala"
  }
 },
 "nbformat": 4,
 "nbformat_minor": 0
}
